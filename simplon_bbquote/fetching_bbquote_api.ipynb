{
 "cells": [
  {
   "cell_type": "code",
   "execution_count": 4,
   "id": "68d43181",
   "metadata": {},
   "outputs": [],
   "source": [
    "from bbquote import fetch_bbquote,transform_bbquote_data"
   ]
  },
  {
   "cell_type": "code",
   "execution_count": 5,
   "id": "5507ad3a",
   "metadata": {},
   "outputs": [
    {
     "data": {
      "text/plain": [
       "[{'quote': \"I'm a criminal, yo.\", 'author': 'Jesse Pinkman'}]"
      ]
     },
     "execution_count": 5,
     "metadata": {},
     "output_type": "execute_result"
    }
   ],
   "source": [
    "fetch_bbquote(1)"
   ]
  },
  {
   "cell_type": "code",
   "execution_count": 7,
   "id": "d2a0132f",
   "metadata": {},
   "outputs": [],
   "source": [
    "quotes_list = fetch_bbquote(5)"
   ]
  },
  {
   "cell_type": "code",
   "execution_count": 8,
   "id": "193a1d21",
   "metadata": {},
   "outputs": [
    {
     "data": {
      "text/html": [
       "<div>\n",
       "<style scoped>\n",
       "    .dataframe tbody tr th:only-of-type {\n",
       "        vertical-align: middle;\n",
       "    }\n",
       "\n",
       "    .dataframe tbody tr th {\n",
       "        vertical-align: top;\n",
       "    }\n",
       "\n",
       "    .dataframe thead th {\n",
       "        text-align: right;\n",
       "    }\n",
       "</style>\n",
       "<table border=\"1\" class=\"dataframe\">\n",
       "  <thead>\n",
       "    <tr style=\"text-align: right;\">\n",
       "      <th></th>\n",
       "      <th>author</th>\n",
       "      <th>quote</th>\n",
       "    </tr>\n",
       "  </thead>\n",
       "  <tbody>\n",
       "    <tr>\n",
       "      <th>0</th>\n",
       "      <td>Walter White</td>\n",
       "      <td>We tried to poison you. We tried to poison you...</td>\n",
       "    </tr>\n",
       "    <tr>\n",
       "      <th>1</th>\n",
       "      <td>Mike Ehrmantraut</td>\n",
       "      <td>Keys, scumbag. It's the universal symbol for k...</td>\n",
       "    </tr>\n",
       "    <tr>\n",
       "      <th>2</th>\n",
       "      <td>Hank Schrader</td>\n",
       "      <td>My name is ASAC Schrader, and you can go f*ck ...</td>\n",
       "    </tr>\n",
       "    <tr>\n",
       "      <th>3</th>\n",
       "      <td>Walter White</td>\n",
       "      <td>Sitting around, smoking marijuana, eating Chee...</td>\n",
       "    </tr>\n",
       "    <tr>\n",
       "      <th>4</th>\n",
       "      <td>Walter White</td>\n",
       "      <td>Stay out of my territory.</td>\n",
       "    </tr>\n",
       "  </tbody>\n",
       "</table>\n",
       "</div>"
      ],
      "text/plain": [
       "             author                                              quote\n",
       "0      Walter White  We tried to poison you. We tried to poison you...\n",
       "1  Mike Ehrmantraut  Keys, scumbag. It's the universal symbol for k...\n",
       "2     Hank Schrader  My name is ASAC Schrader, and you can go f*ck ...\n",
       "3      Walter White  Sitting around, smoking marijuana, eating Chee...\n",
       "4      Walter White                          Stay out of my territory."
      ]
     },
     "execution_count": 8,
     "metadata": {},
     "output_type": "execute_result"
    }
   ],
   "source": [
    "transform_bbquote_data(quotes_list)"
   ]
  },
  {
   "cell_type": "code",
   "execution_count": null,
   "id": "aaed2719",
   "metadata": {},
   "outputs": [],
   "source": []
  }
 ],
 "metadata": {
  "kernelspec": {
   "display_name": "Python 3",
   "language": "python",
   "name": "python3"
  },
  "language_info": {
   "codemirror_mode": {
    "name": "ipython",
    "version": 3
   },
   "file_extension": ".py",
   "mimetype": "text/x-python",
   "name": "python",
   "nbconvert_exporter": "python",
   "pygments_lexer": "ipython3",
   "version": "3.8.8"
  }
 },
 "nbformat": 4,
 "nbformat_minor": 5
}
