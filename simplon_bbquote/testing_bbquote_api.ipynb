{
 "cells": [
  {
   "cell_type": "markdown",
   "id": "6a64e9ae",
   "metadata": {},
   "source": [
    "## Canonical Import"
   ]
  },
  {
   "cell_type": "code",
   "execution_count": 17,
   "id": "6bd2ff9b",
   "metadata": {},
   "outputs": [],
   "source": [
    "import requests\n",
    "import pandas as pd"
   ]
  },
  {
   "cell_type": "markdown",
   "id": "5364858f",
   "metadata": {},
   "source": [
    "## Fetching API"
   ]
  },
  {
   "cell_type": "code",
   "execution_count": 2,
   "id": "42e060b9",
   "metadata": {},
   "outputs": [],
   "source": [
    "uri = 'https://breaking-bad-quotes.herokuapp.com/v1/quotes'"
   ]
  },
  {
   "cell_type": "code",
   "execution_count": 3,
   "id": "d1475991",
   "metadata": {},
   "outputs": [],
   "source": [
    "n_quotes = 5"
   ]
  },
  {
   "cell_type": "code",
   "execution_count": 4,
   "id": "d3e343cf",
   "metadata": {},
   "outputs": [
    {
     "data": {
      "text/plain": [
       "'https://breaking-bad-quotes.herokuapp.com/v1/quotes/5'"
      ]
     },
     "execution_count": 4,
     "metadata": {},
     "output_type": "execute_result"
    }
   ],
   "source": [
    "url = uri\n",
    "if n_quotes > 1:\n",
    "    url = f'{uri}/{str(n_quotes)}'\n",
    "    \n",
    "url"
   ]
  },
  {
   "cell_type": "code",
   "execution_count": 5,
   "id": "0889790d",
   "metadata": {},
   "outputs": [
    {
     "name": "stdout",
     "output_type": "stream",
     "text": [
      "[{'quote': 'My name is ASAC Schrader, and you can go f*ck yourself.', 'author': 'Hank Schrader'}, {'quote': 'Speak into the mic, bitch.', 'author': 'Jesse Pinkman'}, {'quote': 'If that’s true, if you don’t know who I am, then maybe your best course… would be to tread lightly.', 'author': 'Walter White'}, {'quote': 'Fire in the hole, bitch!', 'author': 'Jesse Pinkman'}, {'quote': 'Put me on your magical boat, man, and sail me down your chocolaty river of meth!', 'author': 'Badger'}]\n"
     ]
    }
   ],
   "source": [
    "r = requests.get(url)\n",
    "if r.status_code == 200:\n",
    "    data = r.json()\n",
    "    print(data)\n",
    "else:\n",
    "    print(\"NO DATA\")"
   ]
  },
  {
   "cell_type": "markdown",
   "id": "e6725625",
   "metadata": {},
   "source": [
    "### Code refactoring"
   ]
  },
  {
   "cell_type": "code",
   "execution_count": 6,
   "id": "8d6ec89b",
   "metadata": {},
   "outputs": [],
   "source": [
    "def fetch_bbquote(n_quotes):\n",
    "    url = 'https://breaking-bad-quotes.herokuapp.com/v1/quotes'\n",
    "    if n_quotes > 0:\n",
    "        url = f'{url}/{str(n_quotes)}'\n",
    "    r = requests.get(url)\n",
    "    if r.status_code == 200:\n",
    "        data = r.json()\n",
    "        return data\n",
    "    else:\n",
    "        return None"
   ]
  },
  {
   "cell_type": "code",
   "execution_count": 28,
   "id": "219672da",
   "metadata": {},
   "outputs": [
    {
     "data": {
      "text/plain": [
       "[{'quote': \"You are not the guy. You're not capable of being the guy. I had a guy but now I don't. You are not the guy.\",\n",
       "  'author': 'Mike Ehrmantraut'}]"
      ]
     },
     "execution_count": 28,
     "metadata": {},
     "output_type": "execute_result"
    }
   ],
   "source": [
    "quotes_list = fetch_bbquote(1)\n",
    "quotes_list"
   ]
  },
  {
   "cell_type": "code",
   "execution_count": 13,
   "id": "23d1e1e1",
   "metadata": {
    "scrolled": true
   },
   "outputs": [
    {
     "data": {
      "text/plain": [
       "[{'quote': \"If I ever get anal polyps, I'll know what to name them.\",\n",
       "  'author': 'Saul Goodman'},\n",
       " {'quote': 'We tried to poison you. We tried to poison you because you are an insane, degenerate piece of filth and you deserve to die.',\n",
       "  'author': 'Walter White'},\n",
       " {'quote': \"We're done when I say we're done.\", 'author': 'Walter White'},\n",
       " {'quote': 'You do seem to have a little “shit creek” action going… You know, FYI, you can buy a paddle.',\n",
       "  'author': 'Saul Goodman'},\n",
       " {'quote': 'Name one thing in this world that is non negotiable.',\n",
       "  'author': 'Walter White'}]"
      ]
     },
     "execution_count": 13,
     "metadata": {},
     "output_type": "execute_result"
    }
   ],
   "source": [
    "quotes_list = fetch_bbquote(5)\n",
    "quotes_list"
   ]
  },
  {
   "cell_type": "markdown",
   "id": "8f73fbe5",
   "metadata": {},
   "source": [
    "## Transform data in Dataframe"
   ]
  },
  {
   "cell_type": "code",
   "execution_count": 19,
   "id": "346cde93",
   "metadata": {},
   "outputs": [
    {
     "data": {
      "text/html": [
       "<div>\n",
       "<style scoped>\n",
       "    .dataframe tbody tr th:only-of-type {\n",
       "        vertical-align: middle;\n",
       "    }\n",
       "\n",
       "    .dataframe tbody tr th {\n",
       "        vertical-align: top;\n",
       "    }\n",
       "\n",
       "    .dataframe thead th {\n",
       "        text-align: right;\n",
       "    }\n",
       "</style>\n",
       "<table border=\"1\" class=\"dataframe\">\n",
       "  <thead>\n",
       "    <tr style=\"text-align: right;\">\n",
       "      <th></th>\n",
       "      <th>author</th>\n",
       "      <th>quote</th>\n",
       "    </tr>\n",
       "  </thead>\n",
       "  <tbody>\n",
       "  </tbody>\n",
       "</table>\n",
       "</div>"
      ],
      "text/plain": [
       "Empty DataFrame\n",
       "Columns: [author, quote]\n",
       "Index: []"
      ]
     },
     "execution_count": 19,
     "metadata": {},
     "output_type": "execute_result"
    }
   ],
   "source": [
    "columns = ['author','quote']\n",
    "bbquote_df = pd.DataFrame(columns=columns)\n",
    "bbquote_df"
   ]
  },
  {
   "cell_type": "code",
   "execution_count": 20,
   "id": "50bd03c6",
   "metadata": {},
   "outputs": [],
   "source": [
    "for index, row in enumerate(quotes_list):\n",
    "    #print(index, row['author'], row['quote'])\n",
    "    bbquote_df.loc[index,'author'] = row['author']\n",
    "    bbquote_df.loc[index,'quote'] = row['quote']"
   ]
  },
  {
   "cell_type": "code",
   "execution_count": 21,
   "id": "993f685b",
   "metadata": {
    "scrolled": true
   },
   "outputs": [
    {
     "data": {
      "text/html": [
       "<div>\n",
       "<style scoped>\n",
       "    .dataframe tbody tr th:only-of-type {\n",
       "        vertical-align: middle;\n",
       "    }\n",
       "\n",
       "    .dataframe tbody tr th {\n",
       "        vertical-align: top;\n",
       "    }\n",
       "\n",
       "    .dataframe thead th {\n",
       "        text-align: right;\n",
       "    }\n",
       "</style>\n",
       "<table border=\"1\" class=\"dataframe\">\n",
       "  <thead>\n",
       "    <tr style=\"text-align: right;\">\n",
       "      <th></th>\n",
       "      <th>author</th>\n",
       "      <th>quote</th>\n",
       "    </tr>\n",
       "  </thead>\n",
       "  <tbody>\n",
       "    <tr>\n",
       "      <th>0</th>\n",
       "      <td>Saul Goodman</td>\n",
       "      <td>If I ever get anal polyps, I'll know what to n...</td>\n",
       "    </tr>\n",
       "    <tr>\n",
       "      <th>1</th>\n",
       "      <td>Walter White</td>\n",
       "      <td>We tried to poison you. We tried to poison you...</td>\n",
       "    </tr>\n",
       "    <tr>\n",
       "      <th>2</th>\n",
       "      <td>Walter White</td>\n",
       "      <td>We're done when I say we're done.</td>\n",
       "    </tr>\n",
       "    <tr>\n",
       "      <th>3</th>\n",
       "      <td>Saul Goodman</td>\n",
       "      <td>You do seem to have a little “shit creek” acti...</td>\n",
       "    </tr>\n",
       "    <tr>\n",
       "      <th>4</th>\n",
       "      <td>Walter White</td>\n",
       "      <td>Name one thing in this world that is non negot...</td>\n",
       "    </tr>\n",
       "  </tbody>\n",
       "</table>\n",
       "</div>"
      ],
      "text/plain": [
       "         author                                              quote\n",
       "0  Saul Goodman  If I ever get anal polyps, I'll know what to n...\n",
       "1  Walter White  We tried to poison you. We tried to poison you...\n",
       "2  Walter White                  We're done when I say we're done.\n",
       "3  Saul Goodman  You do seem to have a little “shit creek” acti...\n",
       "4  Walter White  Name one thing in this world that is non negot..."
      ]
     },
     "execution_count": 21,
     "metadata": {},
     "output_type": "execute_result"
    }
   ],
   "source": [
    "bbquote_df"
   ]
  },
  {
   "cell_type": "markdown",
   "id": "d3d3d705",
   "metadata": {},
   "source": [
    "## Code refactoring"
   ]
  },
  {
   "cell_type": "code",
   "execution_count": 26,
   "id": "055d27ad",
   "metadata": {},
   "outputs": [],
   "source": [
    "def transform_bbquote_data(json_response):\n",
    "    columns = ['author','quote']\n",
    "    bbquote_df = pd.DataFrame(columns=columns)\n",
    "    \n",
    "    for index, row in enumerate(json_response):\n",
    "        bbquote_df.loc[index,'author'] = row['author']\n",
    "        bbquote_df.loc[index,'quote'] = row['quote']\n",
    "    return bbquote_df"
   ]
  },
  {
   "cell_type": "code",
   "execution_count": 27,
   "id": "29d8bbc1",
   "metadata": {
    "scrolled": false
   },
   "outputs": [
    {
     "data": {
      "text/html": [
       "<div>\n",
       "<style scoped>\n",
       "    .dataframe tbody tr th:only-of-type {\n",
       "        vertical-align: middle;\n",
       "    }\n",
       "\n",
       "    .dataframe tbody tr th {\n",
       "        vertical-align: top;\n",
       "    }\n",
       "\n",
       "    .dataframe thead th {\n",
       "        text-align: right;\n",
       "    }\n",
       "</style>\n",
       "<table border=\"1\" class=\"dataframe\">\n",
       "  <thead>\n",
       "    <tr style=\"text-align: right;\">\n",
       "      <th></th>\n",
       "      <th>author</th>\n",
       "      <th>quote</th>\n",
       "    </tr>\n",
       "  </thead>\n",
       "  <tbody>\n",
       "    <tr>\n",
       "      <th>0</th>\n",
       "      <td>Saul Goodman</td>\n",
       "      <td>If I ever get anal polyps, I'll know what to n...</td>\n",
       "    </tr>\n",
       "    <tr>\n",
       "      <th>1</th>\n",
       "      <td>Walter White</td>\n",
       "      <td>We tried to poison you. We tried to poison you...</td>\n",
       "    </tr>\n",
       "    <tr>\n",
       "      <th>2</th>\n",
       "      <td>Walter White</td>\n",
       "      <td>We're done when I say we're done.</td>\n",
       "    </tr>\n",
       "    <tr>\n",
       "      <th>3</th>\n",
       "      <td>Saul Goodman</td>\n",
       "      <td>You do seem to have a little “shit creek” acti...</td>\n",
       "    </tr>\n",
       "    <tr>\n",
       "      <th>4</th>\n",
       "      <td>Walter White</td>\n",
       "      <td>Name one thing in this world that is non negot...</td>\n",
       "    </tr>\n",
       "  </tbody>\n",
       "</table>\n",
       "</div>"
      ],
      "text/plain": [
       "         author                                              quote\n",
       "0  Saul Goodman  If I ever get anal polyps, I'll know what to n...\n",
       "1  Walter White  We tried to poison you. We tried to poison you...\n",
       "2  Walter White                  We're done when I say we're done.\n",
       "3  Saul Goodman  You do seem to have a little “shit creek” acti...\n",
       "4  Walter White  Name one thing in this world that is non negot..."
      ]
     },
     "execution_count": 27,
     "metadata": {},
     "output_type": "execute_result"
    }
   ],
   "source": [
    "transform_bbquote_data(quotes_list)"
   ]
  },
  {
   "cell_type": "code",
   "execution_count": null,
   "id": "d3eff875",
   "metadata": {},
   "outputs": [],
   "source": []
  },
  {
   "cell_type": "code",
   "execution_count": null,
   "id": "b73c40ab",
   "metadata": {},
   "outputs": [],
   "source": []
  }
 ],
 "metadata": {
  "kernelspec": {
   "display_name": "Python 3",
   "language": "python",
   "name": "python3"
  },
  "language_info": {
   "codemirror_mode": {
    "name": "ipython",
    "version": 3
   },
   "file_extension": ".py",
   "mimetype": "text/x-python",
   "name": "python",
   "nbconvert_exporter": "python",
   "pygments_lexer": "ipython3",
   "version": "3.8.8"
  }
 },
 "nbformat": 4,
 "nbformat_minor": 5
}
